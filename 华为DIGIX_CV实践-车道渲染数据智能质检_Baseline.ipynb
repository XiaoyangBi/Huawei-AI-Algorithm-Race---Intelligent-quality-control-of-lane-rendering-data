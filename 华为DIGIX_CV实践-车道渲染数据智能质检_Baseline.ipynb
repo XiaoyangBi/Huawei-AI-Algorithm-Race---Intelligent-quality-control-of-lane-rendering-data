{
 "cells": [
  {
   "cell_type": "code",
   "execution_count": 1,
   "id": "c00eac1f",
   "metadata": {},
   "outputs": [],
   "source": [
    "# 问题分析\n",
    "# 数据读取与数据处理\n",
    "# 模型搭建与训练\n",
    "# 模型验证\n",
    "# 结果输出"
   ]
  },
  {
   "cell_type": "markdown",
   "id": "8def132b",
   "metadata": {},
   "source": [
    "# 1. 导入库"
   ]
  },
  {
   "cell_type": "code",
   "execution_count": 2,
   "id": "349848dd",
   "metadata": {},
   "outputs": [
    {
     "name": "stderr",
     "output_type": "stream",
     "text": [
      "C:\\Users\\BiXY\\anaconda3\\envs\\mmcv\\lib\\site-packages\\tqdm\\auto.py:22: TqdmWarning: IProgress not found. Please update jupyter and ipywidgets. See https://ipywidgets.readthedocs.io/en/stable/user_install.html\n",
      "  from .autonotebook import tqdm as notebook_tqdm\n"
     ]
    }
   ],
   "source": [
    "#安装相关依赖库 如果是windows系统，cmd命令框中输入pip安装，或在Jupyter notebook中!pip安装，参考上述环境配置\n",
    "#!pip install pandas numpy cv2 torch torchvision codecs PIL glob\n",
    "#---------------------------------------------------\n",
    "#导入库\n",
    "import os\n",
    "import glob\n",
    "from PIL import Image\n",
    "import csv, time\n",
    "import numpy as np\n",
    "\n",
    "# pytorch相关\n",
    "import torch\n",
    "import torchvision\n",
    "import torch.optim as optim\n",
    "import torch.nn as nn\n",
    "import torchvision.transforms as transforms\n",
    "from torch.utils.data import DataLoader\n",
    "import torch.utils.data as data"
   ]
  },
  {
   "cell_type": "code",
   "execution_count": 3,
   "id": "3b91a379",
   "metadata": {},
   "outputs": [
    {
     "name": "stdout",
     "output_type": "stream",
     "text": [
      "cuda\n"
     ]
    }
   ],
   "source": [
    "device = 'cuda' if torch.cuda.is_available() else 'cpu'\n",
    "#输出cuda说明使用gpu，输出cpu说明使用cpu，最好使用gpu训练\n",
    "print(device)"
   ]
  },
  {
   "cell_type": "markdown",
   "id": "0cd6d993",
   "metadata": {},
   "source": [
    "# 2. 数据读取与数据处理"
   ]
  },
  {
   "cell_type": "code",
   "execution_count": 4,
   "id": "274fe895",
   "metadata": {},
   "outputs": [],
   "source": [
    "# 自定义读取数据集\n",
    "class ImageSet(data.Dataset):\n",
    "    def __init__(\n",
    "            self,\n",
    "            images,\n",
    "            labels,\n",
    "            transform):\n",
    "        self.transform = transform\n",
    "        self.images = images\n",
    "        self.labels = labels\n",
    "\n",
    "    def __getitem__(self, item):\n",
    "        imagename = self.images[item]\n",
    "        \n",
    "        # 防止文件出错，这里生成一个随机的照片\n",
    "        try:\n",
    "            image = Image.open(imagename)\n",
    "            image = image.convert('RGB')\n",
    "        except:\n",
    "            image = Image.fromarray(np.zeros((256, 256), dtype=np.int8))\n",
    "            image = image.convert('RGB')\n",
    "\n",
    "        image = self.transform(image)\n",
    "        return image, torch.tensor(self.labels[item])\n",
    "\n",
    "    def __len__(self):\n",
    "        return len(self.images)"
   ]
  },
  {
   "cell_type": "code",
   "execution_count": 5,
   "id": "d3c5ce55",
   "metadata": {},
   "outputs": [],
   "source": [
    "import pandas as pd\n",
    "import codecs\n",
    "\n",
    "# 训练集标注数据\n",
    "lines = codecs.open('train_label.csv').readlines()\n",
    "train_label = pd.DataFrame({\n",
    "    'image': ['train_image/' + x.strip().split(',')[0] for x in lines],\n",
    "    'label': [x.strip().split(',')[1:] for x in lines],\n",
    "})\n",
    "\n",
    "# 将标签进行二值化处理\n",
    "train_label['new_label'] = train_label['label'].apply(lambda x: int('0' in x))\n",
    "\n",
    "# 数据扩增方法\n",
    "trfs = transforms.Compose([\n",
    "    transforms.Resize((224, 224)),\n",
    "    transforms.RandomHorizontalFlip(),\n",
    "    transforms.ToTensor(),\n",
    "    transforms.Normalize(mean=[0.485, 0.456, 0.406], std=[0.229, 0.224, 0.225])\n",
    "])\n",
    "\n",
    "# 训练集dataset和dataloder\n",
    "# 这里我们使用前1000张图片进行训练，后续可以自行修改\n",
    "train_dataset = ImageSet(train_label['image'].values,\n",
    "                         train_label['new_label'].values,\n",
    "                         trfs)\n",
    "train_loader = DataLoader(\n",
    "    train_dataset,\n",
    "    batch_size=32,\n",
    "    shuffle=True,\n",
    "    num_workers=0,\n",
    "    pin_memory=True,\n",
    ")\n",
    "\n",
    "# 测试集dataset和dataloder\n",
    "test_images = glob.glob('./test_images/*')\n",
    "test_dataset = ImageSet(test_images, [0] * len(test_images), trfs)\n",
    "\n",
    "test_loader = DataLoader(\n",
    "    test_dataset,\n",
    "    batch_size=32,\n",
    "    shuffle=False,\n",
    "    num_workers=0,\n",
    "    pin_memory=True,\n",
    ")"
   ]
  },
  {
   "cell_type": "code",
   "execution_count": 6,
   "id": "f1fd91de",
   "metadata": {
    "scrolled": true
   },
   "outputs": [],
   "source": [
    "for data in train_loader:\n",
    "    break\n",
    "    \n",
    "for data in test_loader:\n",
    "    break\n",
    "      \n",
    " #如果出现BrokenPipeError: [Errno 32] Broken pipe，调整DataLoader中num_workers = 0\n",
    " #num_workers参数是指在进行数据集加载时，启用的线程数目，windows下多线程可能出问题"
   ]
  },
  {
   "cell_type": "markdown",
   "id": "d3ed9942",
   "metadata": {},
   "source": [
    "# 3. 模型搭建与训练"
   ]
  },
  {
   "cell_type": "code",
   "execution_count": 7,
   "id": "e29ea0c1",
   "metadata": {},
   "outputs": [
    {
     "name": "stdout",
     "output_type": "stream",
     "text": [
      "0.8650211095809937 0 63\n",
      "0.4376973807811737 10 63\n",
      "0.1396140456199646 20 63\n",
      "0.24723991751670837 30 63\n",
      "0.25899559259414673 40 63\n",
      "0.3117246925830841 50 63\n",
      "0.32275086641311646 60 63\n",
      "...epoch:   1/  5, loss: 0.3932, average time: 0.35.\n",
      "0.20990689098834991 0 63\n",
      "0.49788349866867065 10 63\n",
      "0.5804922580718994 20 63\n",
      "0.31500667333602905 30 63\n",
      "0.3174930512905121 40 63\n",
      "0.31883499026298523 50 63\n",
      "0.5544729232788086 60 63\n",
      "...epoch:   2/  5, loss: 0.3707, average time: 0.14.\n",
      "0.6120080947875977 0 63\n",
      "0.1888469159603119 10 63\n",
      "0.5087997913360596 20 63\n",
      "0.3768598437309265 30 63\n",
      "0.4384687840938568 40 63\n",
      "0.5726935267448425 50 63\n",
      "0.25547969341278076 60 63\n",
      "...epoch:   3/  5, loss: 0.3692, average time: 0.14.\n",
      "0.20117323100566864 0 63\n",
      "0.3768639862537384 10 63\n",
      "0.31902289390563965 20 63\n",
      "0.37678638100624084 30 63\n",
      "0.5640024542808533 40 63\n",
      "0.4373927414417267 50 63\n",
      "0.18015898764133453 60 63\n",
      "...epoch:   4/  5, loss: 0.3683, average time: 0.14.\n",
      "0.3803289830684662 0 63\n",
      "0.17054255306720734 10 63\n",
      "0.2537653148174286 20 63\n",
      "0.25644832849502563 30 63\n",
      "0.4359256327152252 40 63\n",
      "0.31863078474998474 50 63\n",
      "0.3767791986465454 60 63\n",
      "...epoch:   5/  5, loss: 0.3697, average time: 0.13.\n"
     ]
    }
   ],
   "source": [
    "# 加载resnet18预训练模型\n",
    "model = torchvision.models.resnet18(pretrained=True)\n",
    "model.fc = torch.nn.Linear(512, 2)\n",
    "model = model.to('cuda') #使用GPU\n",
    "\n",
    "# 模型优化器\n",
    "optimizer = optim.SGD(model.parameters(), lr=0.001)\n",
    "\n",
    "# 模型损失函数\n",
    "loss = nn.CrossEntropyLoss()\n",
    "\n",
    "# 接下来我们使用pytorch完成模型的训练：\n",
    "# Python\n",
    "# 设置迭代轮数epochs，可调整，轮数越多，所花时间越久\n",
    "epochs = 5\n",
    "for epoch in range(epochs):\n",
    "    start_t = time.time()\n",
    "    epoch_l = 0\n",
    "    epoch_t = 0\n",
    "    \n",
    "    # 批量训练\n",
    "    for batch_idx, batch in enumerate(train_loader):\n",
    "        optimizer.zero_grad()\n",
    "        image, label = batch\n",
    "        image, label = image.to('cuda'), label.to('cuda')\n",
    "        output = model(image) # 正向传播\n",
    "\n",
    "        l = loss(output, label) # 计算损失\n",
    "        l.backward()\n",
    "        optimizer.step()\n",
    "\n",
    "        batch_l = l.item()\n",
    "        epoch_l += batch_l\n",
    "        batch_t = time.time() - start_t\n",
    "        epoch_t += batch_t\n",
    "        start_t = time.time()\n",
    "        \n",
    "        # 打印loss\n",
    "        if batch_idx % 10 == 0:\n",
    "            print(l.item(), batch_idx, len(train_loader))\n",
    "\n",
    "    epoch_t = epoch_t / len(train_loader)\n",
    "    epoch_l = epoch_l / len(train_loader)\n",
    "    print('...epoch: {:3d}/{:3d}, loss: {:.4f}, average time: {:.2f}.'.format(\n",
    "        epoch + 1, epochs, epoch_l, epoch_t))"
   ]
  },
  {
   "cell_type": "markdown",
   "id": "5bd1753a",
   "metadata": {},
   "source": [
    "# 4. 模型验证"
   ]
  },
  {
   "cell_type": "code",
   "execution_count": 8,
   "id": "94190a2e",
   "metadata": {},
   "outputs": [],
   "source": [
    "model.eval()\n",
    "to_prob = nn.Softmax(dim=1)\n",
    "with torch.no_grad():\n",
    "    imagenames, probs = list(), list()\n",
    "    for batch_idx, batch in enumerate(test_loader):\n",
    "        image, _ = batch\n",
    "        image = image.to('cuda')\n",
    "        pred = model(image)\n",
    "        prob = to_prob(pred)\n",
    "        prob = list(prob.data.cpu().numpy())\n",
    "        probs += prob"
   ]
  },
  {
   "cell_type": "markdown",
   "id": "99d99b8c",
   "metadata": {},
   "source": [
    "# 5. 结果输出"
   ]
  },
  {
   "cell_type": "code",
   "execution_count": 9,
   "id": "a9846ada",
   "metadata": {},
   "outputs": [],
   "source": [
    "import csv\n",
    "with open('submission.csv', 'w',newline = '', encoding='utf8') as fp:\n",
    "    writer = csv.writer(fp)\n",
    "    writer.writerow(['imagename', 'defect_prob'])\n",
    "    for imagename, prob in zip(test_images, probs):\n",
    "        imagename = os.path.basename(imagename)\n",
    "        writer.writerow([imagename, str(prob[1])])"
   ]
  }
 ],
 "metadata": {
  "kernelspec": {
   "display_name": "Python 3 (ipykernel)",
   "language": "python",
   "name": "python3"
  },
  "language_info": {
   "codemirror_mode": {
    "name": "ipython",
    "version": 3
   },
   "file_extension": ".py",
   "mimetype": "text/x-python",
   "name": "python",
   "nbconvert_exporter": "python",
   "pygments_lexer": "ipython3",
   "version": "3.9.12"
  }
 },
 "nbformat": 4,
 "nbformat_minor": 5
}
